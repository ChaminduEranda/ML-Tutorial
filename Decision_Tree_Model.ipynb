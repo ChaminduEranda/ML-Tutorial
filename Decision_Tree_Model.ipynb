{
 "cells": [
  {
   "cell_type": "code",
   "execution_count": 2,
   "id": "eb11896a",
   "metadata": {},
   "outputs": [],
   "source": [
    "import numpy as np\n",
    "import pandas as pd"
   ]
  },
  {
   "cell_type": "code",
   "execution_count": 3,
   "id": "17dcd0c3",
   "metadata": {},
   "outputs": [],
   "source": [
    "data = pd.read_csv(\"mostRequiredSkill.csv\")"
   ]
  },
  {
   "cell_type": "code",
   "execution_count": 4,
   "id": "48af4fd1",
   "metadata": {},
   "outputs": [
    {
     "data": {
      "text/html": [
       "<div>\n",
       "<style scoped>\n",
       "    .dataframe tbody tr th:only-of-type {\n",
       "        vertical-align: middle;\n",
       "    }\n",
       "\n",
       "    .dataframe tbody tr th {\n",
       "        vertical-align: top;\n",
       "    }\n",
       "\n",
       "    .dataframe thead th {\n",
       "        text-align: right;\n",
       "    }\n",
       "</style>\n",
       "<table border=\"1\" class=\"dataframe\">\n",
       "  <thead>\n",
       "    <tr style=\"text-align: right;\">\n",
       "      <th></th>\n",
       "      <th>Career</th>\n",
       "      <th>Personality Type</th>\n",
       "      <th>Skill</th>\n",
       "    </tr>\n",
       "  </thead>\n",
       "  <tbody>\n",
       "    <tr>\n",
       "      <th>0</th>\n",
       "      <td>Software Developer</td>\n",
       "      <td>INTP</td>\n",
       "      <td>Analytical thinking</td>\n",
       "    </tr>\n",
       "    <tr>\n",
       "      <th>1</th>\n",
       "      <td>Business Analyst</td>\n",
       "      <td>ENTJ</td>\n",
       "      <td>Strategic planning</td>\n",
       "    </tr>\n",
       "    <tr>\n",
       "      <th>2</th>\n",
       "      <td>Project Manager</td>\n",
       "      <td>ESTJ</td>\n",
       "      <td>Time management</td>\n",
       "    </tr>\n",
       "    <tr>\n",
       "      <th>3</th>\n",
       "      <td>Quality Assurance</td>\n",
       "      <td>ISTJ</td>\n",
       "      <td>Attention to detail</td>\n",
       "    </tr>\n",
       "    <tr>\n",
       "      <th>4</th>\n",
       "      <td>UI/UX Engineer</td>\n",
       "      <td>ENFP</td>\n",
       "      <td>Creativity</td>\n",
       "    </tr>\n",
       "  </tbody>\n",
       "</table>\n",
       "</div>"
      ],
      "text/plain": [
       "               Career Personality Type                Skill\n",
       "0  Software Developer             INTP  Analytical thinking\n",
       "1    Business Analyst             ENTJ   Strategic planning\n",
       "2     Project Manager             ESTJ      Time management\n",
       "3   Quality Assurance             ISTJ  Attention to detail\n",
       "4      UI/UX Engineer             ENFP           Creativity"
      ]
     },
     "execution_count": 4,
     "metadata": {},
     "output_type": "execute_result"
    }
   ],
   "source": [
    "data.head()"
   ]
  },
  {
   "cell_type": "code",
   "execution_count": 5,
   "id": "4f46b049",
   "metadata": {},
   "outputs": [
    {
     "data": {
      "text/plain": [
       "(68, 3)"
      ]
     },
     "execution_count": 5,
     "metadata": {},
     "output_type": "execute_result"
    }
   ],
   "source": [
    "data.shape"
   ]
  },
  {
   "cell_type": "code",
   "execution_count": 6,
   "id": "ba8d3398",
   "metadata": {},
   "outputs": [
    {
     "name": "stdout",
     "output_type": "stream",
     "text": [
      "<class 'pandas.core.frame.DataFrame'>\n",
      "RangeIndex: 68 entries, 0 to 67\n",
      "Data columns (total 3 columns):\n",
      " #   Column            Non-Null Count  Dtype \n",
      "---  ------            --------------  ----- \n",
      " 0   Career            68 non-null     object\n",
      " 1   Personality Type  68 non-null     object\n",
      " 2   Skill             68 non-null     object\n",
      "dtypes: object(3)\n",
      "memory usage: 1.7+ KB\n"
     ]
    }
   ],
   "source": [
    "data.info()"
   ]
  },
  {
   "cell_type": "code",
   "execution_count": 7,
   "id": "64d21639",
   "metadata": {},
   "outputs": [
    {
     "data": {
      "text/plain": [
       "array(['INTP', 'ENTJ', 'ESTJ', 'ISTJ', 'ENFP', 'INTJ', 'ISTP', 'ENTP',\n",
       "       'INFP'], dtype=object)"
      ]
     },
     "execution_count": 7,
     "metadata": {},
     "output_type": "execute_result"
    }
   ],
   "source": [
    "# Find unique values of Personality types\n",
    "data['Personality Type'].unique()"
   ]
  },
  {
   "cell_type": "code",
   "execution_count": 8,
   "id": "3e58aef8",
   "metadata": {},
   "outputs": [
    {
     "data": {
      "text/plain": [
       "array(['Analytical thinking', 'Strategic planning', 'Time management',\n",
       "       'Attention to detail', 'Creativity', 'Statistical analysis',\n",
       "       'Problem solving', 'Innovation', 'Technical knowledge',\n",
       "       'Writing skills'], dtype=object)"
      ]
     },
     "execution_count": 8,
     "metadata": {},
     "output_type": "execute_result"
    }
   ],
   "source": [
    "# Find unique values of Skills\n",
    "data['Skill'].unique()"
   ]
  },
  {
   "cell_type": "code",
   "execution_count": 9,
   "id": "8f2b3dc0",
   "metadata": {},
   "outputs": [
    {
     "data": {
      "text/plain": [
       "array(['Software Developer', 'Business Analyst', 'Project Manager',\n",
       "       'Quality Assurance', 'UI/UX Engineer', 'Data Scientist',\n",
       "       'Cybersecurity Analyst', 'Cloud Architect', 'Network Engineer',\n",
       "       'Technical Writer'], dtype=object)"
      ]
     },
     "execution_count": 9,
     "metadata": {},
     "output_type": "execute_result"
    }
   ],
   "source": [
    "# Find unique values of CS career\n",
    "data['Career'].unique()"
   ]
  },
  {
   "cell_type": "code",
   "execution_count": 6,
   "id": "6f6c185f",
   "metadata": {},
   "outputs": [],
   "source": [
    "# Convert text values to numeric values\n",
    "career_convertion_result = data['Career']\n",
    "from sklearn.preprocessing import LabelEncoder\n",
    "obj1 = LabelEncoder()\n",
    "result1 = obj1.fit_transform(career_convertion_result)"
   ]
  },
  {
   "cell_type": "code",
   "execution_count": 7,
   "id": "5273bd12",
   "metadata": {},
   "outputs": [
    {
     "data": {
      "text/plain": [
       "array([7, 0, 5, 6, 9, 3, 2, 1, 4, 8, 7, 0, 5, 6, 9, 3, 2, 1, 4, 8, 7, 0,\n",
       "       5, 6, 9, 3, 2, 1, 4, 8, 7, 0, 5, 6, 9, 3, 2, 1, 4, 8, 7, 0, 5, 6,\n",
       "       9, 3, 2, 1, 4, 8, 7, 0, 5, 6, 9, 3, 2, 1, 4, 8, 7, 0, 5, 6, 9, 3,\n",
       "       2, 1])"
      ]
     },
     "execution_count": 7,
     "metadata": {},
     "output_type": "execute_result"
    }
   ],
   "source": [
    "result1"
   ]
  },
  {
   "cell_type": "code",
   "execution_count": 8,
   "id": "ef4ab77a",
   "metadata": {},
   "outputs": [
    {
     "data": {
      "text/html": [
       "<div>\n",
       "<style scoped>\n",
       "    .dataframe tbody tr th:only-of-type {\n",
       "        vertical-align: middle;\n",
       "    }\n",
       "\n",
       "    .dataframe tbody tr th {\n",
       "        vertical-align: top;\n",
       "    }\n",
       "\n",
       "    .dataframe thead th {\n",
       "        text-align: right;\n",
       "    }\n",
       "</style>\n",
       "<table border=\"1\" class=\"dataframe\">\n",
       "  <thead>\n",
       "    <tr style=\"text-align: right;\">\n",
       "      <th></th>\n",
       "      <th>Career</th>\n",
       "      <th>Personality Type</th>\n",
       "      <th>Skill</th>\n",
       "      <th>Career_result</th>\n",
       "    </tr>\n",
       "  </thead>\n",
       "  <tbody>\n",
       "    <tr>\n",
       "      <th>0</th>\n",
       "      <td>Software Developer</td>\n",
       "      <td>INTP</td>\n",
       "      <td>Analytical thinking</td>\n",
       "      <td>7</td>\n",
       "    </tr>\n",
       "    <tr>\n",
       "      <th>1</th>\n",
       "      <td>Business Analyst</td>\n",
       "      <td>ENTJ</td>\n",
       "      <td>Strategic planning</td>\n",
       "      <td>0</td>\n",
       "    </tr>\n",
       "    <tr>\n",
       "      <th>2</th>\n",
       "      <td>Project Manager</td>\n",
       "      <td>ESTJ</td>\n",
       "      <td>Time management</td>\n",
       "      <td>5</td>\n",
       "    </tr>\n",
       "    <tr>\n",
       "      <th>3</th>\n",
       "      <td>Quality Assurance</td>\n",
       "      <td>ISTJ</td>\n",
       "      <td>Attention to detail</td>\n",
       "      <td>6</td>\n",
       "    </tr>\n",
       "    <tr>\n",
       "      <th>4</th>\n",
       "      <td>UI/UX Engineer</td>\n",
       "      <td>ENFP</td>\n",
       "      <td>Creativity</td>\n",
       "      <td>9</td>\n",
       "    </tr>\n",
       "    <tr>\n",
       "      <th>...</th>\n",
       "      <td>...</td>\n",
       "      <td>...</td>\n",
       "      <td>...</td>\n",
       "      <td>...</td>\n",
       "    </tr>\n",
       "    <tr>\n",
       "      <th>63</th>\n",
       "      <td>Quality Assurance</td>\n",
       "      <td>ISTJ</td>\n",
       "      <td>Attention to detail</td>\n",
       "      <td>6</td>\n",
       "    </tr>\n",
       "    <tr>\n",
       "      <th>64</th>\n",
       "      <td>UI/UX Engineer</td>\n",
       "      <td>ENFP</td>\n",
       "      <td>Creativity</td>\n",
       "      <td>9</td>\n",
       "    </tr>\n",
       "    <tr>\n",
       "      <th>65</th>\n",
       "      <td>Data Scientist</td>\n",
       "      <td>INTJ</td>\n",
       "      <td>Statistical analysis</td>\n",
       "      <td>3</td>\n",
       "    </tr>\n",
       "    <tr>\n",
       "      <th>66</th>\n",
       "      <td>Cybersecurity Analyst</td>\n",
       "      <td>ISTP</td>\n",
       "      <td>Problem solving</td>\n",
       "      <td>2</td>\n",
       "    </tr>\n",
       "    <tr>\n",
       "      <th>67</th>\n",
       "      <td>Cloud Architect</td>\n",
       "      <td>ENTP</td>\n",
       "      <td>Innovation</td>\n",
       "      <td>1</td>\n",
       "    </tr>\n",
       "  </tbody>\n",
       "</table>\n",
       "<p>68 rows × 4 columns</p>\n",
       "</div>"
      ],
      "text/plain": [
       "                   Career Personality Type                 Skill  \\\n",
       "0      Software Developer             INTP   Analytical thinking   \n",
       "1        Business Analyst             ENTJ    Strategic planning   \n",
       "2         Project Manager             ESTJ       Time management   \n",
       "3       Quality Assurance             ISTJ   Attention to detail   \n",
       "4          UI/UX Engineer             ENFP            Creativity   \n",
       "..                    ...              ...                   ...   \n",
       "63      Quality Assurance             ISTJ   Attention to detail   \n",
       "64         UI/UX Engineer             ENFP            Creativity   \n",
       "65         Data Scientist             INTJ  Statistical analysis   \n",
       "66  Cybersecurity Analyst             ISTP       Problem solving   \n",
       "67        Cloud Architect             ENTP            Innovation   \n",
       "\n",
       "    Career_result  \n",
       "0               7  \n",
       "1               0  \n",
       "2               5  \n",
       "3               6  \n",
       "4               9  \n",
       "..            ...  \n",
       "63              6  \n",
       "64              9  \n",
       "65              3  \n",
       "66              2  \n",
       "67              1  \n",
       "\n",
       "[68 rows x 4 columns]"
      ]
     },
     "execution_count": 8,
     "metadata": {},
     "output_type": "execute_result"
    }
   ],
   "source": [
    "# Add new column and save the text to numeric conversion result\n",
    "data['Career_result'] = result1\n",
    "data"
   ]
  },
  {
   "cell_type": "code",
   "execution_count": 9,
   "id": "d84fae1d",
   "metadata": {},
   "outputs": [],
   "source": [
    "# Convert text values to numeric values\n",
    "personality_convertion_result = data['Personality Type']\n",
    "from sklearn.preprocessing import LabelEncoder\n",
    "obj2 = LabelEncoder()\n",
    "result2 = obj2.fit_transform(personality_convertion_result)"
   ]
  },
  {
   "cell_type": "code",
   "execution_count": 10,
   "id": "30feddd7",
   "metadata": {},
   "outputs": [
    {
     "data": {
      "text/plain": [
       "array([6, 1, 3, 7, 0, 5, 8, 2, 7, 4, 6, 1, 3, 7, 0, 5, 8, 2, 7, 4, 6, 1,\n",
       "       3, 7, 0, 5, 8, 2, 7, 4, 6, 1, 3, 7, 0, 5, 8, 2, 7, 4, 6, 1, 3, 7,\n",
       "       0, 5, 8, 2, 7, 4, 6, 1, 3, 7, 0, 5, 8, 2, 7, 4, 6, 1, 3, 7, 0, 5,\n",
       "       8, 2])"
      ]
     },
     "execution_count": 10,
     "metadata": {},
     "output_type": "execute_result"
    }
   ],
   "source": [
    "result2"
   ]
  },
  {
   "cell_type": "code",
   "execution_count": 11,
   "id": "2a746117",
   "metadata": {},
   "outputs": [
    {
     "data": {
      "text/html": [
       "<div>\n",
       "<style scoped>\n",
       "    .dataframe tbody tr th:only-of-type {\n",
       "        vertical-align: middle;\n",
       "    }\n",
       "\n",
       "    .dataframe tbody tr th {\n",
       "        vertical-align: top;\n",
       "    }\n",
       "\n",
       "    .dataframe thead th {\n",
       "        text-align: right;\n",
       "    }\n",
       "</style>\n",
       "<table border=\"1\" class=\"dataframe\">\n",
       "  <thead>\n",
       "    <tr style=\"text-align: right;\">\n",
       "      <th></th>\n",
       "      <th>Career</th>\n",
       "      <th>Personality Type</th>\n",
       "      <th>Skill</th>\n",
       "      <th>Career_result</th>\n",
       "      <th>Personality_result</th>\n",
       "    </tr>\n",
       "  </thead>\n",
       "  <tbody>\n",
       "    <tr>\n",
       "      <th>0</th>\n",
       "      <td>Software Developer</td>\n",
       "      <td>INTP</td>\n",
       "      <td>Analytical thinking</td>\n",
       "      <td>7</td>\n",
       "      <td>6</td>\n",
       "    </tr>\n",
       "    <tr>\n",
       "      <th>1</th>\n",
       "      <td>Business Analyst</td>\n",
       "      <td>ENTJ</td>\n",
       "      <td>Strategic planning</td>\n",
       "      <td>0</td>\n",
       "      <td>1</td>\n",
       "    </tr>\n",
       "    <tr>\n",
       "      <th>2</th>\n",
       "      <td>Project Manager</td>\n",
       "      <td>ESTJ</td>\n",
       "      <td>Time management</td>\n",
       "      <td>5</td>\n",
       "      <td>3</td>\n",
       "    </tr>\n",
       "    <tr>\n",
       "      <th>3</th>\n",
       "      <td>Quality Assurance</td>\n",
       "      <td>ISTJ</td>\n",
       "      <td>Attention to detail</td>\n",
       "      <td>6</td>\n",
       "      <td>7</td>\n",
       "    </tr>\n",
       "    <tr>\n",
       "      <th>4</th>\n",
       "      <td>UI/UX Engineer</td>\n",
       "      <td>ENFP</td>\n",
       "      <td>Creativity</td>\n",
       "      <td>9</td>\n",
       "      <td>0</td>\n",
       "    </tr>\n",
       "    <tr>\n",
       "      <th>...</th>\n",
       "      <td>...</td>\n",
       "      <td>...</td>\n",
       "      <td>...</td>\n",
       "      <td>...</td>\n",
       "      <td>...</td>\n",
       "    </tr>\n",
       "    <tr>\n",
       "      <th>63</th>\n",
       "      <td>Quality Assurance</td>\n",
       "      <td>ISTJ</td>\n",
       "      <td>Attention to detail</td>\n",
       "      <td>6</td>\n",
       "      <td>7</td>\n",
       "    </tr>\n",
       "    <tr>\n",
       "      <th>64</th>\n",
       "      <td>UI/UX Engineer</td>\n",
       "      <td>ENFP</td>\n",
       "      <td>Creativity</td>\n",
       "      <td>9</td>\n",
       "      <td>0</td>\n",
       "    </tr>\n",
       "    <tr>\n",
       "      <th>65</th>\n",
       "      <td>Data Scientist</td>\n",
       "      <td>INTJ</td>\n",
       "      <td>Statistical analysis</td>\n",
       "      <td>3</td>\n",
       "      <td>5</td>\n",
       "    </tr>\n",
       "    <tr>\n",
       "      <th>66</th>\n",
       "      <td>Cybersecurity Analyst</td>\n",
       "      <td>ISTP</td>\n",
       "      <td>Problem solving</td>\n",
       "      <td>2</td>\n",
       "      <td>8</td>\n",
       "    </tr>\n",
       "    <tr>\n",
       "      <th>67</th>\n",
       "      <td>Cloud Architect</td>\n",
       "      <td>ENTP</td>\n",
       "      <td>Innovation</td>\n",
       "      <td>1</td>\n",
       "      <td>2</td>\n",
       "    </tr>\n",
       "  </tbody>\n",
       "</table>\n",
       "<p>68 rows × 5 columns</p>\n",
       "</div>"
      ],
      "text/plain": [
       "                   Career Personality Type                 Skill  \\\n",
       "0      Software Developer             INTP   Analytical thinking   \n",
       "1        Business Analyst             ENTJ    Strategic planning   \n",
       "2         Project Manager             ESTJ       Time management   \n",
       "3       Quality Assurance             ISTJ   Attention to detail   \n",
       "4          UI/UX Engineer             ENFP            Creativity   \n",
       "..                    ...              ...                   ...   \n",
       "63      Quality Assurance             ISTJ   Attention to detail   \n",
       "64         UI/UX Engineer             ENFP            Creativity   \n",
       "65         Data Scientist             INTJ  Statistical analysis   \n",
       "66  Cybersecurity Analyst             ISTP       Problem solving   \n",
       "67        Cloud Architect             ENTP            Innovation   \n",
       "\n",
       "    Career_result  Personality_result  \n",
       "0               7                   6  \n",
       "1               0                   1  \n",
       "2               5                   3  \n",
       "3               6                   7  \n",
       "4               9                   0  \n",
       "..            ...                 ...  \n",
       "63              6                   7  \n",
       "64              9                   0  \n",
       "65              3                   5  \n",
       "66              2                   8  \n",
       "67              1                   2  \n",
       "\n",
       "[68 rows x 5 columns]"
      ]
     },
     "execution_count": 11,
     "metadata": {},
     "output_type": "execute_result"
    }
   ],
   "source": [
    "data['Personality_result'] = result2\n",
    "data"
   ]
  },
  {
   "cell_type": "code",
   "execution_count": 12,
   "id": "29c72aac",
   "metadata": {},
   "outputs": [],
   "source": [
    "# Convert text values to numeric values\n",
    "skill_convertion_result = data['Skill']\n",
    "from sklearn.preprocessing import LabelEncoder\n",
    "obj3 = LabelEncoder()\n",
    "result3 = obj3.fit_transform(skill_convertion_result)"
   ]
  },
  {
   "cell_type": "code",
   "execution_count": 13,
   "id": "dbc7fd75",
   "metadata": {},
   "outputs": [
    {
     "data": {
      "text/html": [
       "<div>\n",
       "<style scoped>\n",
       "    .dataframe tbody tr th:only-of-type {\n",
       "        vertical-align: middle;\n",
       "    }\n",
       "\n",
       "    .dataframe tbody tr th {\n",
       "        vertical-align: top;\n",
       "    }\n",
       "\n",
       "    .dataframe thead th {\n",
       "        text-align: right;\n",
       "    }\n",
       "</style>\n",
       "<table border=\"1\" class=\"dataframe\">\n",
       "  <thead>\n",
       "    <tr style=\"text-align: right;\">\n",
       "      <th></th>\n",
       "      <th>Career</th>\n",
       "      <th>Personality Type</th>\n",
       "      <th>Skill</th>\n",
       "      <th>Career_result</th>\n",
       "      <th>Personality_result</th>\n",
       "      <th>Skill_result</th>\n",
       "    </tr>\n",
       "  </thead>\n",
       "  <tbody>\n",
       "    <tr>\n",
       "      <th>0</th>\n",
       "      <td>Software Developer</td>\n",
       "      <td>INTP</td>\n",
       "      <td>Analytical thinking</td>\n",
       "      <td>7</td>\n",
       "      <td>6</td>\n",
       "      <td>0</td>\n",
       "    </tr>\n",
       "    <tr>\n",
       "      <th>1</th>\n",
       "      <td>Business Analyst</td>\n",
       "      <td>ENTJ</td>\n",
       "      <td>Strategic planning</td>\n",
       "      <td>0</td>\n",
       "      <td>1</td>\n",
       "      <td>6</td>\n",
       "    </tr>\n",
       "    <tr>\n",
       "      <th>2</th>\n",
       "      <td>Project Manager</td>\n",
       "      <td>ESTJ</td>\n",
       "      <td>Time management</td>\n",
       "      <td>5</td>\n",
       "      <td>3</td>\n",
       "      <td>8</td>\n",
       "    </tr>\n",
       "    <tr>\n",
       "      <th>3</th>\n",
       "      <td>Quality Assurance</td>\n",
       "      <td>ISTJ</td>\n",
       "      <td>Attention to detail</td>\n",
       "      <td>6</td>\n",
       "      <td>7</td>\n",
       "      <td>1</td>\n",
       "    </tr>\n",
       "    <tr>\n",
       "      <th>4</th>\n",
       "      <td>UI/UX Engineer</td>\n",
       "      <td>ENFP</td>\n",
       "      <td>Creativity</td>\n",
       "      <td>9</td>\n",
       "      <td>0</td>\n",
       "      <td>2</td>\n",
       "    </tr>\n",
       "    <tr>\n",
       "      <th>...</th>\n",
       "      <td>...</td>\n",
       "      <td>...</td>\n",
       "      <td>...</td>\n",
       "      <td>...</td>\n",
       "      <td>...</td>\n",
       "      <td>...</td>\n",
       "    </tr>\n",
       "    <tr>\n",
       "      <th>63</th>\n",
       "      <td>Quality Assurance</td>\n",
       "      <td>ISTJ</td>\n",
       "      <td>Attention to detail</td>\n",
       "      <td>6</td>\n",
       "      <td>7</td>\n",
       "      <td>1</td>\n",
       "    </tr>\n",
       "    <tr>\n",
       "      <th>64</th>\n",
       "      <td>UI/UX Engineer</td>\n",
       "      <td>ENFP</td>\n",
       "      <td>Creativity</td>\n",
       "      <td>9</td>\n",
       "      <td>0</td>\n",
       "      <td>2</td>\n",
       "    </tr>\n",
       "    <tr>\n",
       "      <th>65</th>\n",
       "      <td>Data Scientist</td>\n",
       "      <td>INTJ</td>\n",
       "      <td>Statistical analysis</td>\n",
       "      <td>3</td>\n",
       "      <td>5</td>\n",
       "      <td>5</td>\n",
       "    </tr>\n",
       "    <tr>\n",
       "      <th>66</th>\n",
       "      <td>Cybersecurity Analyst</td>\n",
       "      <td>ISTP</td>\n",
       "      <td>Problem solving</td>\n",
       "      <td>2</td>\n",
       "      <td>8</td>\n",
       "      <td>4</td>\n",
       "    </tr>\n",
       "    <tr>\n",
       "      <th>67</th>\n",
       "      <td>Cloud Architect</td>\n",
       "      <td>ENTP</td>\n",
       "      <td>Innovation</td>\n",
       "      <td>1</td>\n",
       "      <td>2</td>\n",
       "      <td>3</td>\n",
       "    </tr>\n",
       "  </tbody>\n",
       "</table>\n",
       "<p>68 rows × 6 columns</p>\n",
       "</div>"
      ],
      "text/plain": [
       "                   Career Personality Type                 Skill  \\\n",
       "0      Software Developer             INTP   Analytical thinking   \n",
       "1        Business Analyst             ENTJ    Strategic planning   \n",
       "2         Project Manager             ESTJ       Time management   \n",
       "3       Quality Assurance             ISTJ   Attention to detail   \n",
       "4          UI/UX Engineer             ENFP            Creativity   \n",
       "..                    ...              ...                   ...   \n",
       "63      Quality Assurance             ISTJ   Attention to detail   \n",
       "64         UI/UX Engineer             ENFP            Creativity   \n",
       "65         Data Scientist             INTJ  Statistical analysis   \n",
       "66  Cybersecurity Analyst             ISTP       Problem solving   \n",
       "67        Cloud Architect             ENTP            Innovation   \n",
       "\n",
       "    Career_result  Personality_result  Skill_result  \n",
       "0               7                   6             0  \n",
       "1               0                   1             6  \n",
       "2               5                   3             8  \n",
       "3               6                   7             1  \n",
       "4               9                   0             2  \n",
       "..            ...                 ...           ...  \n",
       "63              6                   7             1  \n",
       "64              9                   0             2  \n",
       "65              3                   5             5  \n",
       "66              2                   8             4  \n",
       "67              1                   2             3  \n",
       "\n",
       "[68 rows x 6 columns]"
      ]
     },
     "execution_count": 13,
     "metadata": {},
     "output_type": "execute_result"
    }
   ],
   "source": [
    "data['Skill_result'] = result3\n",
    "data"
   ]
  },
  {
   "cell_type": "code",
   "execution_count": 14,
   "id": "9cab328d",
   "metadata": {},
   "outputs": [],
   "source": [
    "x = data[['Personality_result','Skill_result']]"
   ]
  },
  {
   "cell_type": "code",
   "execution_count": 15,
   "id": "a7abe6f3",
   "metadata": {},
   "outputs": [],
   "source": [
    "y = data['Career_result']"
   ]
  },
  {
   "cell_type": "code",
   "execution_count": 16,
   "id": "75f95b17",
   "metadata": {},
   "outputs": [],
   "source": [
    "from sklearn.model_selection import train_test_split\n",
    "x_train, x_test, y_train, y_test = train_test_split(x,y, test_size=0.2)"
   ]
  },
  {
   "cell_type": "code",
   "execution_count": 17,
   "id": "3b8cca4d",
   "metadata": {},
   "outputs": [
    {
     "data": {
      "text/plain": [
       "(54, 2)"
      ]
     },
     "execution_count": 17,
     "metadata": {},
     "output_type": "execute_result"
    }
   ],
   "source": [
    "x_train.shape"
   ]
  },
  {
   "cell_type": "code",
   "execution_count": 18,
   "id": "7d89a90b",
   "metadata": {},
   "outputs": [
    {
     "data": {
      "text/plain": [
       "(14, 2)"
      ]
     },
     "execution_count": 18,
     "metadata": {},
     "output_type": "execute_result"
    }
   ],
   "source": [
    "x_test.shape"
   ]
  },
  {
   "cell_type": "markdown",
   "id": "0cd79a45",
   "metadata": {},
   "source": [
    "# Train the model - Decision Tree"
   ]
  },
  {
   "cell_type": "code",
   "execution_count": 19,
   "id": "4efd6045",
   "metadata": {},
   "outputs": [
    {
     "data": {
      "text/html": [
       "<style>#sk-container-id-1 {color: black;background-color: white;}#sk-container-id-1 pre{padding: 0;}#sk-container-id-1 div.sk-toggleable {background-color: white;}#sk-container-id-1 label.sk-toggleable__label {cursor: pointer;display: block;width: 100%;margin-bottom: 0;padding: 0.3em;box-sizing: border-box;text-align: center;}#sk-container-id-1 label.sk-toggleable__label-arrow:before {content: \"▸\";float: left;margin-right: 0.25em;color: #696969;}#sk-container-id-1 label.sk-toggleable__label-arrow:hover:before {color: black;}#sk-container-id-1 div.sk-estimator:hover label.sk-toggleable__label-arrow:before {color: black;}#sk-container-id-1 div.sk-toggleable__content {max-height: 0;max-width: 0;overflow: hidden;text-align: left;background-color: #f0f8ff;}#sk-container-id-1 div.sk-toggleable__content pre {margin: 0.2em;color: black;border-radius: 0.25em;background-color: #f0f8ff;}#sk-container-id-1 input.sk-toggleable__control:checked~div.sk-toggleable__content {max-height: 200px;max-width: 100%;overflow: auto;}#sk-container-id-1 input.sk-toggleable__control:checked~label.sk-toggleable__label-arrow:before {content: \"▾\";}#sk-container-id-1 div.sk-estimator input.sk-toggleable__control:checked~label.sk-toggleable__label {background-color: #d4ebff;}#sk-container-id-1 div.sk-label input.sk-toggleable__control:checked~label.sk-toggleable__label {background-color: #d4ebff;}#sk-container-id-1 input.sk-hidden--visually {border: 0;clip: rect(1px 1px 1px 1px);clip: rect(1px, 1px, 1px, 1px);height: 1px;margin: -1px;overflow: hidden;padding: 0;position: absolute;width: 1px;}#sk-container-id-1 div.sk-estimator {font-family: monospace;background-color: #f0f8ff;border: 1px dotted black;border-radius: 0.25em;box-sizing: border-box;margin-bottom: 0.5em;}#sk-container-id-1 div.sk-estimator:hover {background-color: #d4ebff;}#sk-container-id-1 div.sk-parallel-item::after {content: \"\";width: 100%;border-bottom: 1px solid gray;flex-grow: 1;}#sk-container-id-1 div.sk-label:hover label.sk-toggleable__label {background-color: #d4ebff;}#sk-container-id-1 div.sk-serial::before {content: \"\";position: absolute;border-left: 1px solid gray;box-sizing: border-box;top: 0;bottom: 0;left: 50%;z-index: 0;}#sk-container-id-1 div.sk-serial {display: flex;flex-direction: column;align-items: center;background-color: white;padding-right: 0.2em;padding-left: 0.2em;position: relative;}#sk-container-id-1 div.sk-item {position: relative;z-index: 1;}#sk-container-id-1 div.sk-parallel {display: flex;align-items: stretch;justify-content: center;background-color: white;position: relative;}#sk-container-id-1 div.sk-item::before, #sk-container-id-1 div.sk-parallel-item::before {content: \"\";position: absolute;border-left: 1px solid gray;box-sizing: border-box;top: 0;bottom: 0;left: 50%;z-index: -1;}#sk-container-id-1 div.sk-parallel-item {display: flex;flex-direction: column;z-index: 1;position: relative;background-color: white;}#sk-container-id-1 div.sk-parallel-item:first-child::after {align-self: flex-end;width: 50%;}#sk-container-id-1 div.sk-parallel-item:last-child::after {align-self: flex-start;width: 50%;}#sk-container-id-1 div.sk-parallel-item:only-child::after {width: 0;}#sk-container-id-1 div.sk-dashed-wrapped {border: 1px dashed gray;margin: 0 0.4em 0.5em 0.4em;box-sizing: border-box;padding-bottom: 0.4em;background-color: white;}#sk-container-id-1 div.sk-label label {font-family: monospace;font-weight: bold;display: inline-block;line-height: 1.2em;}#sk-container-id-1 div.sk-label-container {text-align: center;}#sk-container-id-1 div.sk-container {/* jupyter's `normalize.less` sets `[hidden] { display: none; }` but bootstrap.min.css set `[hidden] { display: none !important; }` so we also need the `!important` here to be able to override the default hidden behavior on the sphinx rendered scikit-learn.org. See: https://github.com/scikit-learn/scikit-learn/issues/21755 */display: inline-block !important;position: relative;}#sk-container-id-1 div.sk-text-repr-fallback {display: none;}</style><div id=\"sk-container-id-1\" class=\"sk-top-container\"><div class=\"sk-text-repr-fallback\"><pre>DecisionTreeClassifier()</pre><b>In a Jupyter environment, please rerun this cell to show the HTML representation or trust the notebook. <br />On GitHub, the HTML representation is unable to render, please try loading this page with nbviewer.org.</b></div><div class=\"sk-container\" hidden><div class=\"sk-item\"><div class=\"sk-estimator sk-toggleable\"><input class=\"sk-toggleable__control sk-hidden--visually\" id=\"sk-estimator-id-1\" type=\"checkbox\" checked><label for=\"sk-estimator-id-1\" class=\"sk-toggleable__label sk-toggleable__label-arrow\">DecisionTreeClassifier</label><div class=\"sk-toggleable__content\"><pre>DecisionTreeClassifier()</pre></div></div></div></div></div>"
      ],
      "text/plain": [
       "DecisionTreeClassifier()"
      ]
     },
     "execution_count": 19,
     "metadata": {},
     "output_type": "execute_result"
    }
   ],
   "source": [
    "# Implementing the decision tree model & Training the model\n",
    "from sklearn.tree import DecisionTreeClassifier\n",
    "model = DecisionTreeClassifier()\n",
    "model.fit(x_train.values, y_train.values)"
   ]
  },
  {
   "cell_type": "code",
   "execution_count": 20,
   "id": "8657fd7d",
   "metadata": {},
   "outputs": [],
   "source": [
    "pred = model.predict(x_test.values)"
   ]
  },
  {
   "cell_type": "code",
   "execution_count": 21,
   "id": "d4f06d5d",
   "metadata": {},
   "outputs": [
    {
     "data": {
      "text/plain": [
       "47    1\n",
       "27    1\n",
       "54    9\n",
       "22    5\n",
       "10    7\n",
       "48    4\n",
       "29    8\n",
       "15    3\n",
       "21    0\n",
       "1     0\n",
       "20    7\n",
       "62    5\n",
       "9     8\n",
       "34    9\n",
       "Name: Career_result, dtype: int32"
      ]
     },
     "execution_count": 21,
     "metadata": {},
     "output_type": "execute_result"
    }
   ],
   "source": [
    "y_test"
   ]
  },
  {
   "cell_type": "code",
   "execution_count": 22,
   "id": "2a0c93e0",
   "metadata": {},
   "outputs": [
    {
     "data": {
      "text/plain": [
       "1.0"
      ]
     },
     "execution_count": 22,
     "metadata": {},
     "output_type": "execute_result"
    }
   ],
   "source": [
    "# Test the accuracy\n",
    "from sklearn.metrics import accuracy_score\n",
    "accuracy_score(y_test, pred)"
   ]
  },
  {
   "cell_type": "code",
   "execution_count": 23,
   "id": "353c358d",
   "metadata": {},
   "outputs": [
    {
     "data": {
      "text/plain": [
       "array(['Cloud Architect', 'Cloud Architect', 'UI/UX Engineer',\n",
       "       'Project Manager', 'Software Developer', 'Network Engineer',\n",
       "       'Technical Writer', 'Data Scientist', 'Business Analyst',\n",
       "       'Business Analyst', 'Software Developer', 'Project Manager',\n",
       "       'Technical Writer', 'UI/UX Engineer'], dtype=object)"
      ]
     },
     "execution_count": 23,
     "metadata": {},
     "output_type": "execute_result"
    }
   ],
   "source": [
    "# Reversing lable encoder\n",
    "# Get the text values of test set of y\n",
    "y_inverted = obj1.inverse_transform(y_test)\n",
    "y_inverted"
   ]
  },
  {
   "cell_type": "code",
   "execution_count": 24,
   "id": "53e9f3e5",
   "metadata": {},
   "outputs": [
    {
     "data": {
      "text/plain": [
       "array(['Cloud Architect', 'Cloud Architect', 'UI/UX Engineer',\n",
       "       'Project Manager', 'Software Developer', 'Network Engineer',\n",
       "       'Technical Writer', 'Data Scientist', 'Business Analyst',\n",
       "       'Business Analyst', 'Software Developer', 'Project Manager',\n",
       "       'Technical Writer', 'UI/UX Engineer'], dtype=object)"
      ]
     },
     "execution_count": 24,
     "metadata": {},
     "output_type": "execute_result"
    }
   ],
   "source": [
    "# Get the real text values of predicted\n",
    "pred_inverted = obj1.inverse_transform(pred)\n",
    "pred_inverted"
   ]
  },
  {
   "cell_type": "code",
   "execution_count": 25,
   "id": "f445c7fe",
   "metadata": {},
   "outputs": [
    {
     "data": {
      "text/html": [
       "<div>\n",
       "<style scoped>\n",
       "    .dataframe tbody tr th:only-of-type {\n",
       "        vertical-align: middle;\n",
       "    }\n",
       "\n",
       "    .dataframe tbody tr th {\n",
       "        vertical-align: top;\n",
       "    }\n",
       "\n",
       "    .dataframe thead th {\n",
       "        text-align: right;\n",
       "    }\n",
       "</style>\n",
       "<table border=\"1\" class=\"dataframe\">\n",
       "  <thead>\n",
       "    <tr style=\"text-align: right;\">\n",
       "      <th></th>\n",
       "      <th>y_test</th>\n",
       "      <th>pred</th>\n",
       "    </tr>\n",
       "  </thead>\n",
       "  <tbody>\n",
       "    <tr>\n",
       "      <th>0</th>\n",
       "      <td>Cloud Architect</td>\n",
       "      <td>Cloud Architect</td>\n",
       "    </tr>\n",
       "    <tr>\n",
       "      <th>1</th>\n",
       "      <td>Cloud Architect</td>\n",
       "      <td>Cloud Architect</td>\n",
       "    </tr>\n",
       "    <tr>\n",
       "      <th>2</th>\n",
       "      <td>UI/UX Engineer</td>\n",
       "      <td>UI/UX Engineer</td>\n",
       "    </tr>\n",
       "    <tr>\n",
       "      <th>3</th>\n",
       "      <td>Project Manager</td>\n",
       "      <td>Project Manager</td>\n",
       "    </tr>\n",
       "    <tr>\n",
       "      <th>4</th>\n",
       "      <td>Software Developer</td>\n",
       "      <td>Software Developer</td>\n",
       "    </tr>\n",
       "    <tr>\n",
       "      <th>5</th>\n",
       "      <td>Network Engineer</td>\n",
       "      <td>Network Engineer</td>\n",
       "    </tr>\n",
       "    <tr>\n",
       "      <th>6</th>\n",
       "      <td>Technical Writer</td>\n",
       "      <td>Technical Writer</td>\n",
       "    </tr>\n",
       "    <tr>\n",
       "      <th>7</th>\n",
       "      <td>Data Scientist</td>\n",
       "      <td>Data Scientist</td>\n",
       "    </tr>\n",
       "    <tr>\n",
       "      <th>8</th>\n",
       "      <td>Business Analyst</td>\n",
       "      <td>Business Analyst</td>\n",
       "    </tr>\n",
       "    <tr>\n",
       "      <th>9</th>\n",
       "      <td>Business Analyst</td>\n",
       "      <td>Business Analyst</td>\n",
       "    </tr>\n",
       "    <tr>\n",
       "      <th>10</th>\n",
       "      <td>Software Developer</td>\n",
       "      <td>Software Developer</td>\n",
       "    </tr>\n",
       "    <tr>\n",
       "      <th>11</th>\n",
       "      <td>Project Manager</td>\n",
       "      <td>Project Manager</td>\n",
       "    </tr>\n",
       "    <tr>\n",
       "      <th>12</th>\n",
       "      <td>Technical Writer</td>\n",
       "      <td>Technical Writer</td>\n",
       "    </tr>\n",
       "    <tr>\n",
       "      <th>13</th>\n",
       "      <td>UI/UX Engineer</td>\n",
       "      <td>UI/UX Engineer</td>\n",
       "    </tr>\n",
       "  </tbody>\n",
       "</table>\n",
       "</div>"
      ],
      "text/plain": [
       "                y_test                pred\n",
       "0      Cloud Architect     Cloud Architect\n",
       "1      Cloud Architect     Cloud Architect\n",
       "2       UI/UX Engineer      UI/UX Engineer\n",
       "3      Project Manager     Project Manager\n",
       "4   Software Developer  Software Developer\n",
       "5     Network Engineer    Network Engineer\n",
       "6     Technical Writer    Technical Writer\n",
       "7       Data Scientist      Data Scientist\n",
       "8     Business Analyst    Business Analyst\n",
       "9     Business Analyst    Business Analyst\n",
       "10  Software Developer  Software Developer\n",
       "11     Project Manager     Project Manager\n",
       "12    Technical Writer    Technical Writer\n",
       "13      UI/UX Engineer      UI/UX Engineer"
      ]
     },
     "execution_count": 25,
     "metadata": {},
     "output_type": "execute_result"
    }
   ],
   "source": [
    "#More information about the y_test values vs predicted data values\n",
    "y_test_pred_result = pd.DataFrame(data=[y_inverted, pred_inverted], index = ['y_test','pred'])\n",
    "y_test_pred_result.transpose()"
   ]
  },
  {
   "cell_type": "markdown",
   "id": "d644df68",
   "metadata": {},
   "source": [
    "# Give new values to x and predict y"
   ]
  },
  {
   "cell_type": "code",
   "execution_count": 26,
   "id": "5966621d",
   "metadata": {},
   "outputs": [
    {
     "data": {
      "text/plain": [
       "array([7])"
      ]
     },
     "execution_count": 26,
     "metadata": {},
     "output_type": "execute_result"
    }
   ],
   "source": [
    "# Giving new values and assign them to a variable\n",
    "input_values = [[6, 0]]\n",
    "pred_result = model.predict(input_values)\n",
    "pred_result"
   ]
  },
  {
   "cell_type": "code",
   "execution_count": 27,
   "id": "e64680b1",
   "metadata": {},
   "outputs": [
    {
     "data": {
      "text/plain": [
       "array(['Software Developer'], dtype=object)"
      ]
     },
     "execution_count": 27,
     "metadata": {},
     "output_type": "execute_result"
    }
   ],
   "source": [
    "# Invert the result because of numerical format\n",
    "pred_result_inverted = obj1.inverse_transform(pred_result)\n",
    "pred_result_inverted"
   ]
  },
  {
   "cell_type": "code",
   "execution_count": null,
   "id": "79a7518c",
   "metadata": {},
   "outputs": [],
   "source": []
  }
 ],
 "metadata": {
  "kernelspec": {
   "display_name": "Python 3 (ipykernel)",
   "language": "python",
   "name": "python3"
  },
  "language_info": {
   "codemirror_mode": {
    "name": "ipython",
    "version": 3
   },
   "file_extension": ".py",
   "mimetype": "text/x-python",
   "name": "python",
   "nbconvert_exporter": "python",
   "pygments_lexer": "ipython3",
   "version": "3.10.2"
  }
 },
 "nbformat": 4,
 "nbformat_minor": 5
}
