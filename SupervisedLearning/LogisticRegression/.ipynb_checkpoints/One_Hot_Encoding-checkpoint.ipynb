{
 "cells": [
  {
   "cell_type": "code",
   "execution_count": 1,
   "id": "6f5703dc",
   "metadata": {},
   "outputs": [
    {
     "data": {
      "text/plain": [
       "0      Pass\n",
       "1      Fail\n",
       "2      Pass\n",
       "3      Pass\n",
       "4    Absent\n",
       "5      Fail\n",
       "6      Fail\n",
       "7      Pass\n",
       "8      Pass\n",
       "9    Absent\n",
       "Name: result, dtype: object"
      ]
     },
     "execution_count": 1,
     "metadata": {},
     "output_type": "execute_result"
    }
   ],
   "source": [
    "import pandas as pd\n",
    "data = pd.read_csv(\"student.csv\")\n",
    "data['result']\n",
    "# importing the data set and save it to data variable\n",
    "# dataset have a column named result"
   ]
  },
  {
   "cell_type": "code",
   "execution_count": 2,
   "id": "e6faf448",
   "metadata": {},
   "outputs": [],
   "source": [
    "result_category = data['result']"
   ]
  },
  {
   "cell_type": "code",
   "execution_count": 5,
   "id": "22219f91",
   "metadata": {},
   "outputs": [],
   "source": [
    "# Assign string data to numeric values\n",
    "from sklearn.preprocessing import LabelEncoder\n",
    "obj = LabelEncoder()\n",
    "result = obj.fit_transform(result_category)"
   ]
  },
  {
   "cell_type": "code",
   "execution_count": 6,
   "id": "f9126f1c",
   "metadata": {},
   "outputs": [
    {
     "data": {
      "text/plain": [
       "array([2, 1, 2, 2, 0, 1, 1, 2, 2, 0])"
      ]
     },
     "execution_count": 6,
     "metadata": {},
     "output_type": "execute_result"
    }
   ],
   "source": [
    "result"
   ]
  },
  {
   "cell_type": "code",
   "execution_count": 8,
   "id": "6467dee4",
   "metadata": {},
   "outputs": [],
   "source": [
    "# one hot encoding\n",
    "from sklearn.preprocessing import LabelBinarizer\n",
    "obj = LabelBinarizer()\n",
    "result = obj.fit_transform(result_category)"
   ]
  },
  {
   "cell_type": "code",
   "execution_count": 9,
   "id": "19d142ee",
   "metadata": {},
   "outputs": [
    {
     "data": {
      "text/plain": [
       "array([[0, 0, 1],\n",
       "       [0, 1, 0],\n",
       "       [0, 0, 1],\n",
       "       [0, 0, 1],\n",
       "       [1, 0, 0],\n",
       "       [0, 1, 0],\n",
       "       [0, 1, 0],\n",
       "       [0, 0, 1],\n",
       "       [0, 0, 1],\n",
       "       [1, 0, 0]])"
      ]
     },
     "execution_count": 9,
     "metadata": {},
     "output_type": "execute_result"
    }
   ],
   "source": [
    "result"
   ]
  },
  {
   "cell_type": "code",
   "execution_count": 10,
   "id": "9a6edced",
   "metadata": {},
   "outputs": [
    {
     "data": {
      "text/plain": [
       "array(['Absent', 'Fail', 'Pass'], dtype='<U6')"
      ]
     },
     "execution_count": 10,
     "metadata": {},
     "output_type": "execute_result"
    }
   ],
   "source": [
    "obj.classes_"
   ]
  },
  {
   "cell_type": "code",
   "execution_count": null,
   "id": "beeebf6f",
   "metadata": {},
   "outputs": [],
   "source": []
  }
 ],
 "metadata": {
  "kernelspec": {
   "display_name": "Python 3 (ipykernel)",
   "language": "python",
   "name": "python3"
  },
  "language_info": {
   "codemirror_mode": {
    "name": "ipython",
    "version": 3
   },
   "file_extension": ".py",
   "mimetype": "text/x-python",
   "name": "python",
   "nbconvert_exporter": "python",
   "pygments_lexer": "ipython3",
   "version": "3.10.2"
  }
 },
 "nbformat": 4,
 "nbformat_minor": 5
}
