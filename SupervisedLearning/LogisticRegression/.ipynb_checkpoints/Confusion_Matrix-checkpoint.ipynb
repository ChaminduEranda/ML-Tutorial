{
 "cells": [
  {
   "cell_type": "code",
   "execution_count": 1,
   "id": "ada857cd",
   "metadata": {},
   "outputs": [],
   "source": [
    "actual = [1,1,1,0,0,1,0,0,0,1,0,1,1,0,0]\n",
    "predicted = [0,1,1,0,0,1,1,0,1,1,0,1,1,0,1]"
   ]
  },
  {
   "cell_type": "code",
   "execution_count": 5,
   "id": "0020ff59",
   "metadata": {},
   "outputs": [
    {
     "data": {
      "text/plain": [
       "15"
      ]
     },
     "execution_count": 5,
     "metadata": {},
     "output_type": "execute_result"
    }
   ],
   "source": [
    "# Length of data set\n",
    "len(actual)\n",
    "len(predicted)"
   ]
  },
  {
   "cell_type": "code",
   "execution_count": null,
   "id": "e97ee02e",
   "metadata": {},
   "outputs": [],
   "source": []
  }
 ],
 "metadata": {
  "kernelspec": {
   "display_name": "Python 3 (ipykernel)",
   "language": "python",
   "name": "python3"
  },
  "language_info": {
   "codemirror_mode": {
    "name": "ipython",
    "version": 3
   },
   "file_extension": ".py",
   "mimetype": "text/x-python",
   "name": "python",
   "nbconvert_exporter": "python",
   "pygments_lexer": "ipython3",
   "version": "3.10.2"
  }
 },
 "nbformat": 4,
 "nbformat_minor": 5
}
